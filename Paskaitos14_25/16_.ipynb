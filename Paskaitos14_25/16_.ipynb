{
 "cells": [
  {
   "cell_type": "code",
   "execution_count": null,
   "metadata": {},
   "outputs": [],
   "source": [
    "# Sukurkite Mokinys klasę, kuri turės mokinio vardą, pavardę ir sąrašą pažymių. Įtraukite metodus,\n",
    "# kurie skaičiuotų vidurkį, didžiausią ir mažiausią pažymį.\n",
    "\n",
    "# Sukurkite Abiturientas klasę, kuri paveldi Mokinys klasę ir prideda papildomą funkcionalumą, pvz.,\n",
    "# gebėjimą pridėti egzamino rezultatus ir skaičiuoti bendrą vidurkį, įskaitant ir egzamino rezultatus.\n",
    "\n",
    "# Sukurkite Mokykla klasę, kuri turės sąrašą Mokinys objektų. Įtraukite metodus, kurie leistų pridėti\n",
    "# naują mokinį, pašalinti mokinį, bei skaičiuoti visos mokyklos mokinių pažymių vidurkius.\n",
    "\n",
    "# Atnaujinkite Mokinys klasę taip, kad pažymių sąrašas būtų privatus. Sukurkite metodus, kurie\n",
    "# leistų saugiai pridėti ir gauti pažymius, užtikrinant, kad negalima būtų pridėti netinkamų pažymių\n",
    "# (pvz., neigiamų ar didesnių nei 10).\n",
    "\n",
    "# Klasės turi būti aprašytos jūsų kuriamame modulyje.\n",
    "# Klases tikrinimui importuokite taip, kad \n",
    "# NEREIKĖTŲ modulio pavadinimo prieš klasę naudoti."
   ]
  },
  {
   "cell_type": "code",
   "execution_count": 76,
   "metadata": {},
   "outputs": [
    {
     "name": "stdout",
     "output_type": "stream",
     "text": [
      "Lukas Azukas ir jo pazymiai su paskutiniu pridetu pazymiu: [8, 7, 9, 6, 5, 7, 4, 8, 9]\n"
     ]
    },
    {
     "ename": "AttributeError",
     "evalue": "'Abiturientas' object has no attribute '_Abiturientas__sarPazymiu'",
     "output_type": "error",
     "traceback": [
      "\u001b[1;31m---------------------------------------------------------------------------\u001b[0m",
      "\u001b[1;31mAttributeError\u001b[0m                            Traceback (most recent call last)",
      "Cell \u001b[1;32mIn[76], line 63\u001b[0m\n\u001b[0;32m     59\u001b[0m         \u001b[38;5;28;01mreturn\u001b[39;00m \u001b[38;5;124mf\u001b[39m\u001b[38;5;124m'\u001b[39m\u001b[38;5;124mIvestu pazymiu ir egzaminu rezultatu vidurkis: \u001b[39m\u001b[38;5;132;01m{\u001b[39;00m\u001b[38;5;28msum\u001b[39m(\u001b[38;5;28mself\u001b[39m\u001b[38;5;241m.\u001b[39m__sarPazymiu)\u001b[38;5;241m/\u001b[39m\u001b[38;5;28mlen\u001b[39m(\u001b[38;5;28mself\u001b[39m\u001b[38;5;241m.\u001b[39m__sarPazymiu)\u001b[38;5;132;01m}\u001b[39;00m\u001b[38;5;124m'\u001b[39m\n\u001b[0;32m     62\u001b[0m abi \u001b[38;5;241m=\u001b[39m Abiturientas(\u001b[38;5;124m'\u001b[39m\u001b[38;5;124mMonika\u001b[39m\u001b[38;5;124m'\u001b[39m,\u001b[38;5;124m'\u001b[39m\u001b[38;5;124mNezinoma\u001b[39m\u001b[38;5;124m'\u001b[39m,[\u001b[38;5;241m8\u001b[39m,\u001b[38;5;241m7\u001b[39m,\u001b[38;5;241m9\u001b[39m,\u001b[38;5;241m6\u001b[39m,\u001b[38;5;241m5\u001b[39m,\u001b[38;5;241m7\u001b[39m,\u001b[38;5;241m4\u001b[39m,\u001b[38;5;241m8\u001b[39m])\n\u001b[1;32m---> 63\u001b[0m \u001b[43mabi\u001b[49m\u001b[38;5;241;43m.\u001b[39;49m\u001b[43megzRez\u001b[49m\u001b[43m(\u001b[49m\u001b[43m)\u001b[49m\n",
      "Cell \u001b[1;32mIn[76], line 58\u001b[0m, in \u001b[0;36mAbiturientas.egzRez\u001b[1;34m(self)\u001b[0m\n\u001b[0;32m     56\u001b[0m \u001b[38;5;28;01mdef\u001b[39;00m \u001b[38;5;21megzRez\u001b[39m(\u001b[38;5;28mself\u001b[39m):\n\u001b[0;32m     57\u001b[0m     \u001b[38;5;28mself\u001b[39m\u001b[38;5;241m.\u001b[39mivest \u001b[38;5;241m=\u001b[39m \u001b[38;5;28mfloat\u001b[39m(\u001b[38;5;28minput\u001b[39m(\u001b[38;5;124m'\u001b[39m\u001b[38;5;124mIveskite egzamino rezultatus\u001b[39m\u001b[38;5;124m'\u001b[39m))\n\u001b[1;32m---> 58\u001b[0m     \u001b[38;5;28mself\u001b[39m\u001b[38;5;241m.\u001b[39megzRezSar  \u001b[38;5;241m=\u001b[39m \u001b[38;5;28;43mself\u001b[39;49m\u001b[38;5;241;43m.\u001b[39;49m\u001b[43m__sarPazymiu\u001b[49m\u001b[38;5;241m.\u001b[39mappend(\u001b[38;5;28mself\u001b[39m\u001b[38;5;241m.\u001b[39mivest)\n\u001b[0;32m     59\u001b[0m     \u001b[38;5;28;01mreturn\u001b[39;00m \u001b[38;5;124mf\u001b[39m\u001b[38;5;124m'\u001b[39m\u001b[38;5;124mIvestu pazymiu ir egzaminu rezultatu vidurkis: \u001b[39m\u001b[38;5;132;01m{\u001b[39;00m\u001b[38;5;28msum\u001b[39m(\u001b[38;5;28mself\u001b[39m\u001b[38;5;241m.\u001b[39m__sarPazymiu)\u001b[38;5;241m/\u001b[39m\u001b[38;5;28mlen\u001b[39m(\u001b[38;5;28mself\u001b[39m\u001b[38;5;241m.\u001b[39m__sarPazymiu)\u001b[38;5;132;01m}\u001b[39;00m\u001b[38;5;124m'\u001b[39m\n",
      "\u001b[1;31mAttributeError\u001b[0m: 'Abiturientas' object has no attribute '_Abiturientas__sarPazymiu'"
     ]
    }
   ],
   "source": [
    "# Sukurkite Mokinys klasę, kuri turės mokinio vardą, pavardę ir sąrašą pažymių. Įtraukite metodus,\n",
    "# kurie skaičiuotų vidurkį, didžiausią ir mažiausią pažymį.\n",
    "\n",
    "# Atnaujinkite Mokinys klasę taip, kad pažymių sąrašas būtų privatus. Sukurkite metodus, kurie\n",
    "# leistų saugiai pridėti ir gauti pažymius, užtikrinant, kad negalima būtų pridėti netinkamų pažymių\n",
    "# (pvz., neigiamų ar didesnių nei 10).\n",
    "\n",
    "class Mokinys():\n",
    "    def __init__(self, vardas, pavarde, sarPazymiu):\n",
    "        self.vardas = vardas\n",
    "        self.pavarde = pavarde\n",
    "        self.__sarPazymiu = sarPazymiu\n",
    "        pass\n",
    "\n",
    "    def getMinPazymys(self):\n",
    "        return min(self.__sarPazymiu) # __ Du apatiniai bruksneliai padaro privatu\n",
    "    \n",
    "    def getMaxPazymys(self):\n",
    "        return max(self.__sarPazymiu)\n",
    "    def getVidurkis(self):\n",
    "        return sum(self.__sarPazymiu)/len(self.__sarPazymiu)\n",
    "    \n",
    "    def addPazymiai(self):\n",
    "        # self.addpaz = []\n",
    "        pazymys = int(input('Iveskite pazymi'))\n",
    "\n",
    "        if pazymys > 0 and pazymys <= 10:\n",
    "            self.__sarPazymiu.append(pazymys)\n",
    "        else:\n",
    "            print('Pazymiai turi buti ivesti nuo 1 iki 10')\n",
    "        return self.__sarPazymiu\n",
    "    \n",
    "    \n",
    "            \n",
    "            \n",
    "        \n",
    "\n",
    "Mok = Mokinys('Lukas','Azukas', [8,7,9,6,5,7,4,8,])\n",
    "\n",
    "print(f'{Mok.vardas} {Mok.pavarde} ir jo pazymiai su paskutiniu pridetu pazymiu: {Mok.addPazymiai()}')\n",
    "\n",
    "# Parasyti privatu metoda, kuris patikrintu pazymiu sarasa ir pasalintu neigiamus skaicius ir didesnius negu 10 (Papildoma uzd)\n",
    "\n",
    "# Mok.getMaxPazymys()\n",
    "# Mok.getVidurkis()\n",
    "# Mok.getMinPazymys()\n",
    "\n",
    "# Sukurkite Abiturientas klasę, kuri paveldi Mokinys klasę ir prideda papildomą funkcionalumą, pvz.,\n",
    "# gebėjimą pridėti egzamino rezultatus ir skaičiuoti bendrą vidurkį, įskaitant ir egzamino rezultatus.\n",
    "\n",
    "# class Abiturientas(Mokinys):\n",
    "#     def __init__(self, vardas, pavarde, sarPazymiu,):\n",
    "#         super().__init__(vardas, pavarde, sarPazymiu)\n",
    "        \n",
    "\n",
    "#     def egzRez(self):\n",
    "#         self.ivest = float(input('Iveskite egzamino rezultatus'))\n",
    "#         self.egzRezSar  = self.__sarPazymiu.append(self.ivest)\n",
    "#         return f'Ivestu pazymiu ir egzaminu rezultatu vidurkis: {sum(self.__sarPazymiu)/len(self.__sarPazymiu)}'\n",
    "    \n",
    "\n",
    "# abi = Abiturientas('Monika','Nezinoma',[8,7,9,6,5,7,4,8])\n",
    "# abi.egzRez()\n",
    "\n",
    "\n"
   ]
  },
  {
   "cell_type": "code",
   "execution_count": 27,
   "metadata": {},
   "outputs": [],
   "source": [
    "# Sukurkite Mokykla klasę, kuri turės sąrašą Mokinys objektų. Įtraukite metodus, kurie leistų pridėti\n",
    "# naują mokinį, pašalinti mokinį, bei skaičiuoti visos mokyklos mokinių pažymių vidurkius.\n",
    "\n",
    "# # Remigijaus pvz reiks prisitaikyti sau\n",
    "# class Mokykla():\n",
    "#     def __init__(self):\n",
    "#         self.Mokiniai = []\n",
    "#     def addMokinys(self, mokinys):\n",
    "#         self.Mokiniai.append(mokinys)\n",
    "#     def removeMokinys(self, mokinys):\n",
    "#         self.Mokiniai.remove(mokinys)\n",
    "#     def VisuMokiniuVidurkis(self):\n",
    "#         VisuMokiniuPazymiai = []\n",
    "#         for mokinys in self.Mokiniai:\n",
    "#             VisuMokiniuPazymiai.extend(mokinys.pazymiai) # extend leidzia sujungti skirtingus sarasus, prisplecia sarasas, esantis pries extend metoda\n",
    "#         VisuMokiniuVidurkis = sum(VisuMokiniuPazymiai)/len(VisuMokiniuPazymiai)\n",
    "#         return VisuMokiniuVidurkis\n",
    "# mokykla = Mokykla()\n",
    "# mokinys3 = Mokinys('Vardenis3', 'Pavardenis3')\n",
    "\n",
    "# mokykla.addMokinys(mokinys3)\n",
    "# print(mokykla.VisuMokiniuVidurkis())\n",
    "# # extend alternatyva\n",
    "# # VisuMokiniuPazymiai = VisuMokiniuPazymiai + mokinys.pazymiai\n",
    "\n",
    "\n",
    "\n",
    "        \n"
   ]
  },
  {
   "cell_type": "code",
   "execution_count": 79,
   "metadata": {},
   "outputs": [],
   "source": [
    "# Atnaujinkite Mokinys klasę taip, kad pažymių sąrašas būtų privatus. Sukurkite metodus, kurie\n",
    "# leistų saugiai pridėti ir gauti pažymius, užtikrinant, kad negalima būtų pridėti netinkamų pažymių\n",
    "# (pvz., neigiamų ar didesnių nei 10)."
   ]
  }
 ],
 "metadata": {
  "kernelspec": {
   "display_name": "Python 3",
   "language": "python",
   "name": "python3"
  },
  "language_info": {
   "codemirror_mode": {
    "name": "ipython",
    "version": 3
   },
   "file_extension": ".py",
   "mimetype": "text/x-python",
   "name": "python",
   "nbconvert_exporter": "python",
   "pygments_lexer": "ipython3",
   "version": "3.12.2"
  }
 },
 "nbformat": 4,
 "nbformat_minor": 2
}
