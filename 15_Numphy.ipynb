{
 "cells": [
  {
   "cell_type": "code",
   "execution_count": null,
   "metadata": {},
   "outputs": [],
   "source": [
    "import numpy as np\n",
    "\n",
    "x = np.arange(0,10)\n",
    "print(x)"
   ]
  },
  {
   "cell_type": "code",
   "execution_count": 5,
   "metadata": {},
   "outputs": [
    {
     "name": "stdout",
     "output_type": "stream",
     "text": [
      "Honda turi vietu: 5\n",
      "None\n",
      "Honda turi vietu: 5\n",
      "Mercedez turi vietu: 54\n",
      "None\n",
      "Bullet turi vietu: 200\n"
     ]
    }
   ],
   "source": [
    "import Vehicle\n",
    "\n",
    "test = Vehicle.Car('Honda', 4587788, 5)\n",
    "print(test.getSeats())\n",
    "test.getSeats()\n",
    "\n",
    "test1 = Vehicle.Bus('Mercedez', 321110, 54)\n",
    "print(test1.getSeats())\n",
    "\n",
    "test2 = Vehicle.Train('Bullet', 99999, 200)\n",
    "print(test2.getSeats())"
   ]
  },
  {
   "cell_type": "code",
   "execution_count": 1,
   "metadata": {},
   "outputs": [
    {
     "name": "stdout",
     "output_type": "stream",
     "text": [
      "24.974205\n",
      "2.5\n"
     ]
    }
   ],
   "source": [
    "#sukurkite failus nuskaitančią klasę, ji turi būti aprašyta jūsų kuriamame modulyje;\n",
    "#ta klasė turi nuskaityti pateiktą failą, ir suskaidyti stulpelius į sąrašus:\n",
    "#sąrašai I, U, j, P, duomenys iš juos iš atitinkamų taip pat pavadintų stulpelių\n",
    "#realizuokite tai, jog klasė rastų tokį dydį - maksimalų P, suskaičiuotų tokį dydį pce = Pmax / 1000 * 100%;\n",
    "#šie dydžiai turi būti pasiekiamį arba kaip atributas, arba galite įdėti metodą jam gauti\n",
    "# %autoreload 2\n",
    "import modulis\n",
    "\n",
    "\n",
    "txt = modulis.TxtAnalyzer('EK2023-03-24/REF_D_1k_FW_2.05.dat',';')\n",
    "txt.TxtReader()\n",
    "print(txt.getMaxP())\n",
    "print(txt.getPCE())\n"
   ]
  },
  {
   "cell_type": "code",
   "execution_count": null,
   "metadata": {},
   "outputs": [],
   "source": [
    "#Bonus, kas atliko - pabandykite realizuoti radimą tokių verčių:\n",
    "#  j kai U = 0 (arba close to zero), U, kai j =0 (arba close to zero), \n",
    "# jie turi specialius žymėjimus jsc ir Uoc."
   ]
  }
 ],
 "metadata": {
  "kernelspec": {
   "display_name": "Python 3",
   "language": "python",
   "name": "python3"
  },
  "language_info": {
   "codemirror_mode": {
    "name": "ipython",
    "version": 3
   },
   "file_extension": ".py",
   "mimetype": "text/x-python",
   "name": "python",
   "nbconvert_exporter": "python",
   "pygments_lexer": "ipython3",
   "version": "3.12.2"
  }
 },
 "nbformat": 4,
 "nbformat_minor": 2
}
