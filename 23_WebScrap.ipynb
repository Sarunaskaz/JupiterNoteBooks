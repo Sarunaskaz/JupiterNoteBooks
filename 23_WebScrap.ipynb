{
 "cells": [
  {
   "cell_type": "code",
   "execution_count": 1,
   "metadata": {},
   "outputs": [],
   "source": [
    "import numpy as np\n",
    "import numpy.polynomial.polynomial as poly\n",
    "import pandas as pd\n",
    "import matplotlib.pyplot as plt\n",
    "import matplotlib as mpl\n",
    "from datetime import datetime\n",
    "from dateutil import parser\n",
    "import mysql.connector as cnt\n",
    "#import panel as pn\n",
    "#pn.extension()\n",
    "import seaborn as sns\n",
    "import math\n"
   ]
  },
  {
   "cell_type": "code",
   "execution_count": 2,
   "metadata": {},
   "outputs": [
    {
     "data": {
      "image/png": "[encoded data removed]",
      "text/plain": [
       "<Figure size 640x480 with 1 Axes>"
      ]
     },
     "metadata": {},
     "output_type": "display_data"
    }
   ],
   "source": [
    "#nuskaitykite auto.csv, ir pridėkite prie šios lentelės tokių stulpelių : \n",
    "# gamintojo trys pirmos raidės didžiosiomis, suskaičiuokite, kiek kiekvienas gamintojas turėjo skirtingų automobilių modelių, \n",
    "# ADVANCED - pavaizduokite tai grafiškai. Grafiko pobūdį ir kaip tai padarysite - renkatės patys. Hint - .groupby().reset_index() gali duoti lentelę\n",
    "\n",
    "auto = pd.read_csv('NewData/auto.csv', sep='|')[['gamintojas','modelis']]\n",
    "\n",
    "\n",
    "auto['gamintojas'] = auto['gamintojas'].str.upper()\n",
    "\n",
    "auto_modeliai= auto.groupby('gamintojas')['modelis'].nunique().sort_values().reset_index() # paima unikale verte ''nunique''\n",
    "auto_model = auto_modeliai.tail()\n",
    "\n",
    "fig, axis = plt.subplots()\n",
    "#plotting code:\n",
    "\n",
    "axis = sns.barplot(data= auto_model, x='gamintojas', y='modelis')\n",
    "\n",
    "fig.tight_layout()\n",
    "plt.show()\n"
   ]
  },
  {
   "cell_type": "code",
   "execution_count": 14,
   "metadata": {},
   "outputs": [],
   "source": [
    "df = pd.DataFrame() # Tuscio data frame sukurimas\n",
    "df['a'] = np.random.randint(10,50,10) # musu tektas csv faile\n",
    "df.to_csv('demoDF.csv', sep=';') # "
   ]
  },
  {
   "cell_type": "code",
   "execution_count": 31,
   "metadata": {},
   "outputs": [
    {
     "data": {
      "text/html": [
       "<div>\n",
       "<style scoped>\n",
       "    .dataframe tbody tr th:only-of-type {\n",
       "        vertical-align: middle;\n",
       "    }\n",
       "\n",
       "    .dataframe tbody tr th {\n",
       "        vertical-align: top;\n",
       "    }\n",
       "\n",
       "    .dataframe thead th {\n",
       "        text-align: right;\n",
       "    }\n",
       "</style>\n",
       "<table border=\"1\" class=\"dataframe\">\n",
       "  <thead>\n",
       "    <tr style=\"text-align: right;\">\n",
       "      <th></th>\n",
       "      <th>Unnamed: 0</th>\n",
       "      <th>Pavadinimai</th>\n",
       "      <th>Simboliu_kiekis</th>\n",
       "      <th>zodziu_kiekis</th>\n",
       "    </tr>\n",
       "  </thead>\n",
       "  <tbody>\n",
       "    <tr>\n",
       "      <th>0</th>\n",
       "      <td>0</td>\n",
       "      <td>Landynė daugiabutyje: ar gali būti blogiau?</td>\n",
       "      <td>43</td>\n",
       "      <td>6</td>\n",
       "    </tr>\n",
       "    <tr>\n",
       "      <th>1</th>\n",
       "      <td>1</td>\n",
       "      <td>Smarkios avarijos Ramučiuose liudininkai: kalt...</td>\n",
       "      <td>85</td>\n",
       "      <td>8</td>\n",
       "    </tr>\n",
       "    <tr>\n",
       "      <th>2</th>\n",
       "      <td>2</td>\n",
       "      <td>Už šūkį „šlovė Ukrainai“ – išpuoliai prieš lie...</td>\n",
       "      <td>73</td>\n",
       "      <td>10</td>\n",
       "    </tr>\n",
       "    <tr>\n",
       "      <th>3</th>\n",
       "      <td>3</td>\n",
       "      <td>Kauno centre – girto vairuotojo šou: nukentėjo...</td>\n",
       "      <td>55</td>\n",
       "      <td>8</td>\n",
       "    </tr>\n",
       "    <tr>\n",
       "      <th>4</th>\n",
       "      <td>4</td>\n",
       "      <td>„Vičiūnų grupė“ pardavė gamyklą Kaliningrade</td>\n",
       "      <td>46</td>\n",
       "      <td>5</td>\n",
       "    </tr>\n",
       "  </tbody>\n",
       "</table>\n",
       "</div>"
      ],
      "text/plain": [
       "   Unnamed: 0                                        Pavadinimai  \\\n",
       "0           0        Landynė daugiabutyje: ar gali būti blogiau?   \n",
       "1           1  Smarkios avarijos Ramučiuose liudininkai: kalt...   \n",
       "2           2  Už šūkį „šlovė Ukrainai“ – išpuoliai prieš lie...   \n",
       "3           3  Kauno centre – girto vairuotojo šou: nukentėjo...   \n",
       "4           4     „Vičiūnų grupė“ pardavė gamyklą Kaliningrade     \n",
       "\n",
       "   Simboliu_kiekis  zodziu_kiekis  \n",
       "0               43              6  \n",
       "1               85              8  \n",
       "2               73             10  \n",
       "3               55              8  \n",
       "4               46              5  "
      ]
     },
     "execution_count": 31,
     "metadata": {},
     "output_type": "execute_result"
    }
   ],
   "source": [
    "#Surinkite visus kauno dienos straipsnių pavadinimus į pandas dataframe. +\n",
    "Kaunas = pd.read_csv('KaunoDiena.csv', sep=\",\")\n",
    "\n",
    "#pridėkite naują stulpelį, kuriame būtų žodžių kiekis kiekviename pavadinime\n",
    "\n",
    "# def splt(tekstas):\n",
    "#         return ([zodis for zodis in tekstas.split(',')])\n",
    "\n",
    "# Kaunas['Zodziu_kiekis'] = Kaunas['Pavadinimai'].apply(splt).count()\\\n",
    "\n",
    "def splt(txt):\n",
    "    return len(txt.split())\n",
    "\n",
    "Kaunas['Simboliu_kiekis'] = Kaunas['Pavadinimai'].apply(len)\n",
    "\n",
    "Kaunas.head()\n",
    "\n",
    "#pridėkite naują stulpelį, kuriame būtų pavadinime esančių simbolių kiekis\n",
    "Kaunas['zodziu_kiekis'] = Kaunas['Pavadinimai'].apply(splt)\n",
    "Kaunas.head()\n",
    "#eksportuokite tai į CSV failą\n",
    "#eksportuotą CSV failą nuskaitykite su pandas\n",
    "#Koks vidutinis žodžių kiekis pavadinimuose?\n",
    "\n",
    "\n",
    "\n",
    "#Advanced: suraskite dažniausiai pasikartojantį žodį pavadinimuose\n",
    "#Po kiek pavadinimų turėjo vienodą žodžių kiekį? Atsakymui pateikite vizualizaciją (grafiką)"
   ]
  },
  {
   "cell_type": "code",
   "execution_count": null,
   "metadata": {},
   "outputs": [],
   "source": [
    "#Koks vidutinis žodžių kiekis pavadinimuose?\n",
    "Zodziu_vidurkis = Kaunas['zodziu_kiekis'].mean(numeric_only=True)\n",
    "print(f'zodziu vidurkis {Zodziu_vidurkis}')"
   ]
  },
  {
   "cell_type": "code",
   "execution_count": 27,
   "metadata": {},
   "outputs": [
    {
     "data": {
      "text/plain": [
       "<Axes: xlabel='zodziu_kiekis', ylabel='Pavadinimai'>"
      ]
     },
     "execution_count": 27,
     "metadata": {},
     "output_type": "execute_result"
    },
    {
     "data": {
      "image/png": "[encoded data removed]",
      "text/plain": [
       "<Figure size 640x480 with 1 Axes>"
      ]
     },
     "metadata": {},
     "output_type": "display_data"
    }
   ],
   "source": [
    "#Po kiek pavadinimų turėjo vienodą žodžių kiekį? Atsakymui pateikite vizualizaciją (grafiką)\n",
    "\n",
    "kn = Kaunas.groupby('zodziu_kiekis').count().reset_index()[['zodziu_kiekis','Pavadinimai']]\n",
    "sns.barplot(data=kn, x='zodziu_kiekis', y='Pavadinimai')"
   ]
  },
  {
   "cell_type": "code",
   "execution_count": 36,
   "metadata": {},
   "outputs": [
    {
     "name": "stdout",
     "output_type": "stream",
     "text": [
      "['Landynė', 'daugiabutyje:', 'ar', 'gali', 'būti', 'blogiau?', 'Smarkios', 'avarijos', 'Ramučiuose', 'liudininkai:', 'kalti', 'neveikiantys', 'šviesoforai!', '(papildyta)', 'Už', 'šūkį', '„šlovė', 'Ukrainai“', '–', 'išpuoliai', 'prieš', 'lietuvius', 'užsienio', 'kurortuose', 'Kauno', 'centre', '–', 'girto', 'vairuotojo', 'šou:', 'nukentėjo', 'keleivis', '„Vičiūnų', 'grupė“', 'pardavė', 'gamyklą', 'Kaliningrade', 'Orai:', 'kai', 'kur', 'Lietuvoje', 'iš', 'dangaus', 'krito', 'snaigės', 'Mugė', 'Laisvės', 'alėjoje', '–', 'dar', 'gausesnė', 'Lietingą', 'rytą', 'Kaune', 'lydėjo', 'avarijos', 'Žada,', 'kad', 'iki', '2050-ųjų', 'žuvusiųjų', 'avarijose', 'nebebus:', 'kliedesiai', 'ar', 'realybė?', '„Vičiūnų', 'grupė“', 'pardavė', 'gamyklą', 'Kaliningrade', 'Landynė', 'daugiabutyje:', 'ar', 'gali', 'būti', 'blogiau?', 'Mugė', 'Laisvės', 'alėjoje', '–', 'dar', 'gausesnė', 'JAV', 'žiniasklaida:', 'Izraelis', 'smogė', 'Iranui', 'Sužydėjusios', 'Kauno', 'puošmenos', 'džiugins', 'iki', 'pat', 'rudens', 'Ilgapirščių', 'taikinys', '–', '25', 'tūkst.', 'eurų', 'vertės', 'kauniečių', '„Mercedes-Benz“', 'Nacionalinis', 'kultūros', 'forumas', 'mėgins', 'sujungti,', 'kas', 'sunkiai', 'sujungiama,', '–', 'kultūrą', 'ir', 'verslumą', 'Elektromobilių', 'vairuotojus', 'Kaune', 'pasitinka', 'pokyčiai:', 'atsiskaitymas', 'už', 'įkrovimą', '–', 'mobiliąja', 'programėle', '45-asis', '„Lietuvos', 'teatrų', 'pavasaris“', 'kviečia', 'Kauno', 'publiką', 'į', 'teatrališką', 'savaitę', 'Išskirtinėje', 'vietoje', '–', 'prestižiniai', '„Kauno', 'panoramos“', 'apartamentai', 'Kaune', 'tiriant', 'galimai', 'apgaule', 'įgytas', 'ES', 'lėšas', '–', 'įtarimai', 'devyniems', 'asmenims,', 'du', 'suimti', 'R.', 'Jatkevičiūtės-Kasparavičienės', 'sielos', 'peizažai', 'Liūčių', 'tvindomame', 'Dubajuje', 'esantis', 'lietuvis:', 'nustėrau', 'pamatęs', 'apsemtą', 'aštuntą', 'viešbučio', 'aukštą', 'Kauną', 'užplūs', 'skandinaviškos', 'kultūros', 'banga', 'Maironio', 'lietuvių', 'literatūros', 'muziejui', 'toliau', 'vadovaus', 'D.', 'Cibulskienė', 'Nufilmuota:', 'ką', 'daryti', 'su', 'nevalyvais', 'ir', 'neblaiviais', 'keleiviais?', 'Po', 'nuogąstavimo', 'dėl', 'per', 'siauros', 'sankryžos', '–', 'atsakas:', 'viskas', 'apskaičiuota', 'Viešojo', 'transporto', 'grimasos:', 'keleiviai', 'sugrūsti', 'kaip', 'silkės', 'Iš', 'Šiaulių', '„Akropolio“', 'buvo', 'evakuoti', 'žmonės', 'Ukmergės', 'gatvėje', 'neliks', '35', 'medžių:', 'kas', 'čia', 'planuojama?', 'Vėl', 'pirštu', 'beda', 'į', 'Trijų', 'mergelių', 'tilto', 'defektus:', 'jei', 'taip', 'toliau,', 'viskas', 'bus', 'sulopyta', 'Nufilmuota:', 'ką', 'daryti', 'su', 'nevalyvais', 'ir', 'neblaiviais', 'keleiviais?', 'Po', 'nuogąstavimo', 'dėl', 'per', 'siauros', 'sankryžos', '–', 'atsakas:', 'viskas', 'apskaičiuota', 'Viešojo', 'transporto', 'grimasos:', 'keleiviai', 'sugrūsti', 'kaip', 'silkės', 'Iš', 'Šiaulių', '„Akropolio“', 'buvo', 'evakuoti', 'žmonės', 'Žiurkėnas', 'mumyseReikia', 'saugoti', 'savo', 'kailiuką,', 'nes', 'gyvename...', 'Ar', 'prezidento', 'vadovaujama', 'Valstybės', 'gynimo', 'taryba', 'nieko', 'nebereiškia?', 'Lietuvą', 'pasiekė', 'puiki', 'žinia', '–', 'Vokietijos...', 'Po', 'Sibirą', '–', 'be', 'vadovoĮpusėjus', '1911-ųjų', 'vasarai,', 'Josifas...', 'Naujam', 'gyvenimui', 'kylančioje', 'Kauno', 'dalyje', '„YIT', 'Lietuva“', 'baigė', 'statyti', 'pirmuosius', '„Matau', 'Kauną“', 'namus', 'Išankstinis', 'laidotuvių', 'planavimas:', 'šia', 'tema', 'kalbėti', 'verta', 'Medicinos', 'centre', '„Northway“', 'Kaune', '–', 'itin', 'platus', 'sveikatos', 'priežiūros', 'paslaugų', 'spektras', '„Lidl', 'Lietuva“:', 'ir', 'toliau', 'didinsime', 'parduotuvių', 'bei', 'logistikos', 'centro', 'darbuotojų', 'atlyginimus', 'Projekto', '„Krėvės80“', 'penkiaaukštis', '–', 'komplekso', 'pažiba', '„YIT', 'Lietuva“', 'būsto', 'pardavimai', '–', '39', 'proc.', 'didesni', 'Naujam', 'gyvenimui', 'kylančioje', 'Kauno', 'dalyje', '„YIT', 'Lietuva“', 'baigė', 'statyti', 'pirmuosius', '„Matau', 'Kauną“', 'namus', 'Išankstinis', 'laidotuvių', 'planavimas:', 'šia', 'tema', 'kalbėti', 'verta', 'Medicinos', 'centre', '„Northway“', 'Kaune', '–', 'itin', 'platus', 'sveikatos', 'priežiūros', 'paslaugų', 'spektras', '„Lidl', 'Lietuva“:', 'ir', 'toliau', 'didinsime', 'parduotuvių', 'bei', 'logistikos', 'centro', 'darbuotojų', 'atlyginimus', 'Landynė', 'daugiabutyje:', 'ar', 'gali', 'būti', 'blogiau?', 'Dėl', 'galios', 'STT', 'per', 'gyvenimus', 'važiuoja', 'buldozeriu?', 'Policijos', 'pareigūnas:', 'valgyt', 'noriu,', 'na**ui', 'man,', 'protokolai', 'b**t', 'J.', 'Plisienė:', 'kas', 'tu', 'esi,', 'kai', 'tau', 'niekuo', 'nereikia', 'būti?', 'Į', 'kompensuojamųjų', 'vaistų', 'rezervinį', 'sąrašą', 'įtraukti', 'vaistai', 'nuo', 'cistinės', 'fibrozės', 'Specialistė', 'apie', 'lytiškumo', 'suvokimo', 'problemas:', 'lietuviai', 'nori,', 'bet', 'nežino,', 'kaip', 'tai', 'pasakyti', 'Klaiki', 'situacija:', 'apie', 'savižudybes', 'galvoja', 'ir', '9-mečiai', 'Pacientų', 'pavėžėjimu', 'rūpinsis', 'nebe', 'savivaldybės,', 'o', 'Greitosios', 'medicinos', 'pagalbos', 'tarnyba', 'VLK', 'priminė', 'pacientų', 'teises', 'ir', 'atsakomybę', 'už', 'savo', 'sveikatą', 'A.', 'Dulkys', 'tikisi,', 'kad', 'vaistai', 'nuo', 'cistinės', 'fibrozės', 'taps', 'kompensuojami', 'dar', 'šiemet', 'PSDF', 'finansuoja', 'naujus', 'tyrimus', 'ir', 'procedūras', 'prostatos,', 'krūties', 'vėžio,', 'žarnyno', 'infekcijoms', 'gydyti', 'G.', 'Nausėda', 'sureagavo', 'į', 'kritiką:', 'ne', 'A.', 'Bilotaitės', 'reikalas', 'man', 'nurodinėti,', 'ką', 'aš', 'turiu', 'šnekėti', 'KT', 'vertins,', 'ar', 'kailinių', 'žvėrelių', 'verslo', 'draudimas', 'neprieštarauja', 'Konstitucijai', 'Vilniaus', 'savivaldybė', 'pritarė', 'naujojo', 'darželio', 'Perkūnkiemyje', 'projektui', 'Prezidentūra', 'sureagavo', 'į', 'L.', 'Kasčiūno', 'siūlymus:', 'tai', 'negali', 'vėlinti', 'divizijos', 'įgyvendinimo', 'datos', 'VSAT', 'siūlo', 'griežtinti', 'taisykles', 'pasienyje', 'su', 'Rusija', 'Žiniasklaida:', 'V.', 'Semeškai', 'paliekant', 'KAM,', 'Gynybos', 'resursų', 'agentūroje', 'dirbti', 'pradėjo', 'jo', 'marti', 'Sukčiavimo', 'schema,', 'kai', 'tampate', 'nusikaltėlių', 'bendrininku', 'Tvarumo', 'tendencija:', 'vis', 'daugiau', 'drabužių', 'keliauja', 'iš', 'rankų', 'į', 'rankas', 'Desertai', 'sveikiau', '–', 'ką', 'rinktis', 'saldžiam', 'kąsneliui', 'prie', 'kavos?', 'Pavasario', 'mados', 'tendencija:', 'provokacija', 'drąsai', 'ir', 'išskirtinumui', 'Pavasario', 'mada', '–', 'atraskite', 'tris', 'moteriškos', 'pavasario', 'mados', 'tendencijas', 'gaiviam', 'garderobui', 'Mada', '–', 'menas', 'ar', 'komercija?', 'Aktyvusis', 'stilius:', 'derinti', 'tai,', 'kas', 'atrodo', 'nesuderinama', 'Pateikė', 'daugiau', 'detalių:', 'L.', 'Volkovo', 'užpuolimu', 'Vilniuje', 'įtariami', 'du', 'Lenkijos', 'piliečiai', 'Maitinimo', 'sektoriaus', 'atstovų', 'protestas', 'prie', 'Vyriausybės:', 'prašo', 'grąžinti', 'lengvatinį', 'PVM', 'tarifą', '„Orlen', 'Lietuva“', 'atlygino', '146', 'tūkst.', 'eurų', 'į', 'jūrą', 'išsiliejusios', 'naftos', 'sukeltą', 'žalą', 'Dominuojanti', 'sporto', 'šaka', 'uostamiestyje', '–', 'plaukimas', '„Kauno', 'dienos“', 'studijoje', '–', 'K.', 'Kėvalas:', 'darbas', 'nėra', 'įsakytas,', 'o', 'šventė', 'yra', 'įsakyta', '„Kauno', 'dienos“', 'studijoje', '–', 'G.', 'Duoblys:', 'kaip', 'apsaugoti', 'vaikus', 'nuo', 'narkotikų?', '„Kauno', 'dienos“', 'studijoje', '–', 'jėgos', 'trikovės', 'čempionas', 'D.', 'Kasulis:', 'mus', 'limituoja', 'galva,', 'ne', 'kūnas', '„Kauno', 'dienos“', 'studijoje', '–', 'R.', 'Kurtinaitis:', 'vanduo,', 'duona', 'ir', 'malda', 'nepadės', 'laimėti', '„Kauno', 'dienos“', 'studijoje', '–', 'J.', 'Mačiulis:', 'dėl', 'pirmos', 'krizės', 'komandos', 'nereikia', 'ardyti', '„Kauno', 'dienos“', 'studijoje', '–', 'A.', 'Žiurauskas:', 'tebūnie', 'prakeikta', 'diena,', 'kai', 'hobį', 'paverčiau', 'darbu', 'VERT', 'įpareigojo', '„Amber', 'Grid“', 'pakeisti', 'GIPL', 'detales', 'su', 'rusiškomis', 'žymėmis', '„LTG', 'Link“', 'pasirašė', '200', 'mln.', 'eurų', 'paskolų', 'sutartis', 'su', 'NIB', 'ir', 'EIB', 'traukiniams', 'įsigyti', 'Maitinimo', 'sektoriaus', 'atstovų', 'protestas', 'prie', 'Vyriausybės:', 'prašo', 'grąžinti', 'lengvatinį', 'PVM', 'tarifą', '„Orlen', 'Lietuva“', 'atlygino', '146', 'tūkst.', 'eurų', 'į', 'jūrą', 'išsiliejusios', 'naftos', 'sukeltą', 'žalą', 'Lietuvoje', 'startuoja', 'Graikijos', '„Aegean', 'Airlines“', '–', 'dukart', 'per', 'savaitę', 'skraidins', 'į', 'Atėnus', '„Maxima“', 'kviečia', 'dirbti:', 'apmokome,', 'suteikiamas', 'transportas,', 'apgyvendinimas', 'bei', 'nemokamas', 'maitinimas', 'Lietuvos', 'specialistai', 'nuskenavo', 'Bučos', 'ir', 'Borodyankos', 'teritorijas', 'Ukrainoje:', 'buvo', 'apgadinti', 'dronai', 'Po', 'pranešimo', 'apie', 'smūgį', 'Iranui', 'ES', 'vadovė', 'paragino', 'šalis', 'susilaikyti', 'nuo', 'tolesnių', 'veiksmų', 'Izraelio', 'ministras,', 'užsiminęs,', 'kad', 'už', 'sprogimų', 'Irane', 'stovi', 'Izraelis,', 'sulaukė', 'pasmerkimo', 'Prancūzijai', 'areštavus', 'buvusios', 'V.', 'Putino', 'žmonos', 'partnerio', 'vilą', '–', 'Kremliaus', 'kritika', 'Niujorke', 'atrinkti', 'D.', 'Trumpo', 'baudžiamosios', 'bylos', 'prisiekusieji', 'Latvijos', 'užsienio', 'reikalų', 'ministre', 'patvirtinta', 'B.', 'Bražė', 'Latvijos', 'moksleiviai', 'turės', 'galimybę', 'nesimokyti', 'rusų', 'kaip', 'antrosios', 'užsienio', 'kalbos', 'D.', 'Trumpas:', 'Europa', 'turėtų', 'suteikti', 'Ukrainai', 'daugiau', 'pagalbos', 'Dominuojanti', 'sporto', 'šaka', 'uostamiestyje', '–', 'plaukimas', 'Krepšinio', 'trileris', 'Klaipėdoje:', 'du', 'pratęsimai,', '226', 'taškai', 'Marijampoliečiai', 'dramatiškai', 'palaužė', '„Olimpą“', 'ir', 'išlygino', 'bronzinės', 'serijos', 'rezultatą', '„Rytas“', 'pagerbė', 'legendą,', 'triumfavo', 'ir', 'pristatė', 'jaunąjį', 'savo', 'debiutantą', 'Visų', 'laikų', 'rekordą', 'pagerinęs', 'A.', 'Ebo', 'nukalė', 'triuškinančią', 'pergalę', 'prieš', 'Jonavos', 'ekipą', 'Oficialu:', '„Žalgiris“', 'sukirto', 'rankomis', 'su', 'D.', 'Riversu', 'Iki', 'motociklų', 'sezono', 'pradžios', 'liko', 'labai', 'nedaug:', 'kas', 'laukia', 'šiemet?', 'Ne', 'kartą', 'baustas', 'panevėžietis', 'už', 'kontrabandą', 'vėl', 'pakliuvo', 'į', 'pasieniečių', 'akiratį', 'Tris', 'pėsčiąsias', 'sužalojusiam', 'neblaiviam', 'pavežėjui', 'siūloma', 'užsegti', 'apykoję', 'Pateikė', 'daugiau', 'detalių:', 'L.', 'Volkovo', 'užpuolimu', 'Vilniuje', 'įtariami', 'du', 'Lenkijos', 'piliečiai', 'Vilniuje', 'sustabdytame', 'automobilyje', '–', 'įtartini', 'radiniai,', 'vairuotojas', 'uždarytas', 'į', 'areštinę', 'Vilniuje', 'ir', 'Vilniaus', 'rajone', 'galimai', 'smurtauta', 'prieš', 'mažamečius', 'Vilniuje', 'iš', 'moters', 'išvilioti', '6', 'tūkst.', 'eurų', 'Alytuje', 'išgertuvių', 'metu', 'vyras,', 'įtariama,', 'išžagino', 'moterį', 'Venecijos', 'šiuolaikinio', 'meno', 'bienalėje', 'atidaromas', 'Lietuvos', 'paviljonas', 'Už', 'viso', 'gyvenimo', 'nuopelnus', 'Lietuvos', 'kultūros', 'paveldui', 'apdovanoti', 'J.', 'Glemža,', 'R.', 'Jaloveckas', 'Princas', 'Williamas', 'pirmą', 'kartą', 'po', 'Kate', 'vėžio', 'diagnozės', 'grįžo', 'prie', 'viešųjų', 'pareigų', 'EŽTT', 'nepriėmė', 'F.', 'Kirkorovo', 'skundo', 'dėl', 'draudimo', 'atvykti', 'į', 'Lietuvą', 'Spektaklyje', '„Atžalynas“', '–', 'vertybių', 'priminimas', 'P.', 'Gražulis', 'apie', 'romantiškų', 'santykių', 'atnaujinimą', 'su', 'dukters', 'mama', 'Birute:', 'gal', 'yra', 'tas', 'noras', 'Mažosios', 'Lietuvos', 'saugomų', 'teritorijų', 'direkcijos', 'lankytojų', 'centrui', '–', 'ypatinga', 'dovana', 'Dienos', 'horoskopas', '12', 'Zodiako', 'ženklų', '(balandžio', '19', 'd.)', 'Pensininkas', 'per', 'parą', 'aplankė', '120', 'barų', 'ir', 'tapo', 'pasaulio', 'rekordininku', 'Sunkiai', 'įsivaizduojamo', 'statumo', 'gatvė', 'negąsdina', 'vairuotojų:', 'avarijų', 'daug,', 'bet', 'sutrumpėja', 'kelias', 'Atšilus', 'orams', 'viešose', 'vietose', 'lesinti', 'paukščius', 'draudžiama', 'Dienos', 'horoskopas', '12', 'Zodiako', 'ženklų', '(balandžio', '18', 'd.)', 'Nusikaltėlis', 'apsiginklavo', 'gyvate', 'ir', 'pabandė', 'apiplėšti', 'parduotuvę', 'Įspėjamieji', 'pranešimai', 'telefone:', 'kodėl', 'gauna', 'ne', 'visi?']\n"
     ]
    },
    {
     "data": {
      "text/html": [
       "<div>\n",
       "<style scoped>\n",
       "    .dataframe tbody tr th:only-of-type {\n",
       "        vertical-align: middle;\n",
       "    }\n",
       "\n",
       "    .dataframe tbody tr th {\n",
       "        vertical-align: top;\n",
       "    }\n",
       "\n",
       "    .dataframe thead th {\n",
       "        text-align: right;\n",
       "    }\n",
       "</style>\n",
       "<table border=\"1\" class=\"dataframe\">\n",
       "  <thead>\n",
       "    <tr style=\"text-align: right;\">\n",
       "      <th></th>\n",
       "      <th>zodziai</th>\n",
       "      <th>count</th>\n",
       "    </tr>\n",
       "  </thead>\n",
       "  <tbody>\n",
       "    <tr>\n",
       "      <th>0</th>\n",
       "      <td>–</td>\n",
       "      <td>33</td>\n",
       "    </tr>\n",
       "    <tr>\n",
       "      <th>1</th>\n",
       "      <td>ir</td>\n",
       "      <td>17</td>\n",
       "    </tr>\n",
       "    <tr>\n",
       "      <th>2</th>\n",
       "      <td>į</td>\n",
       "      <td>11</td>\n",
       "    </tr>\n",
       "    <tr>\n",
       "      <th>3</th>\n",
       "      <td>„Kauno</td>\n",
       "      <td>7</td>\n",
       "    </tr>\n",
       "    <tr>\n",
       "      <th>4</th>\n",
       "      <td>su</td>\n",
       "      <td>7</td>\n",
       "    </tr>\n",
       "    <tr>\n",
       "      <th>...</th>\n",
       "      <td>...</td>\n",
       "      <td>...</td>\n",
       "    </tr>\n",
       "    <tr>\n",
       "      <th>791</th>\n",
       "      <td>Jaloveckas</td>\n",
       "      <td>1</td>\n",
       "    </tr>\n",
       "    <tr>\n",
       "      <th>792</th>\n",
       "      <td>įtartini</td>\n",
       "      <td>1</td>\n",
       "    </tr>\n",
       "    <tr>\n",
       "      <th>793</th>\n",
       "      <td>radiniai,</td>\n",
       "      <td>1</td>\n",
       "    </tr>\n",
       "    <tr>\n",
       "      <th>794</th>\n",
       "      <td>vairuotojas</td>\n",
       "      <td>1</td>\n",
       "    </tr>\n",
       "    <tr>\n",
       "      <th>795</th>\n",
       "      <td>visi?</td>\n",
       "      <td>1</td>\n",
       "    </tr>\n",
       "  </tbody>\n",
       "</table>\n",
       "<p>796 rows × 2 columns</p>\n",
       "</div>"
      ],
      "text/plain": [
       "         zodziai  count\n",
       "0              –     33\n",
       "1             ir     17\n",
       "2              į     11\n",
       "3         „Kauno      7\n",
       "4             su      7\n",
       "..           ...    ...\n",
       "791   Jaloveckas      1\n",
       "792     įtartini      1\n",
       "793    radiniai,      1\n",
       "794  vairuotojas      1\n",
       "795        visi?      1\n",
       "\n",
       "[796 rows x 2 columns]"
      ]
     },
     "execution_count": 36,
     "metadata": {},
     "output_type": "execute_result"
    }
   ],
   "source": [
    "#Advanced: suraskite dažniausiai pasikartojantį žodį pavadinimuose\n",
    "# auto_modeliai= auto.groupby('gamintojas')['modelis'].nunique().sort_values().reset_index() # paima unikale verte ''nunique''\n",
    "\n",
    "VisuZodziuSarasas = []\n",
    "for e in Kaunas['Pavadinimai'].str.split():\n",
    "    VisuZodziuSarasas.extend(e)\n",
    "print(VisuZodziuSarasas)\n",
    "VisiZodziai = pd.DataFrame() # naujos data frame sukurimas\n",
    "VisiZodziai['zodziai'] = VisuZodziuSarasas\n",
    "VisiZodziai['zodziai'].value_counts().sort_values(ascending=False).reset_index()"
   ]
  },
  {
   "cell_type": "code",
   "execution_count": null,
   "metadata": {},
   "outputs": [],
   "source": [
    "# Hint: https://stackoverflow.com/questions/69216352/how-to-extract-text-from-specific-spans-using-beautifulsoup\n",
    "#kas atliko šią užduotį: turit likus į kiekvieną straipsnį konkrečiai. \n",
    "# Surinkite tokią statistiką - kiek žodžių turi straipsniai? Koks vidutinis žodžių kiekis? \n",
    "# Kiek yra straipsnių, kurių žodžių kiekis yra mažesnis, didesnis už vidurkį? Kokia žodžių kiekio mediana?"
   ]
  }
 ],
 "metadata": {
  "kernelspec": {
   "display_name": "Python 3",
   "language": "python",
   "name": "python3"
  },
  "language_info": {
   "codemirror_mode": {
    "name": "ipython",
    "version": 3
   },
   "file_extension": ".py",
   "mimetype": "text/x-python",
   "name": "python",
   "nbconvert_exporter": "python",
   "pygments_lexer": "ipython3",
   "version": "3.12.2"
  }
 },
 "nbformat": 4,
 "nbformat_minor": 2
}
